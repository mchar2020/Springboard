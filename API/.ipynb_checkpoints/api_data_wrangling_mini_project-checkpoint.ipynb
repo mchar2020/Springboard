{
 "cells": [
  {
   "cell_type": "markdown",
   "metadata": {},
   "source": [
    "This exercise will require you to pull some data from the Qunadl API. Qaundl is currently the most widely used aggregator of financial market data."
   ]
  },
  {
   "cell_type": "markdown",
   "metadata": {},
   "source": [
    "As a first step, you will need to register a free account on the http://www.quandl.com website."
   ]
  },
  {
   "cell_type": "markdown",
   "metadata": {},
   "source": [
    "After you register, you will be provided with a unique API key, that you should store:"
   ]
  },
  {
   "cell_type": "code",
   "execution_count": 186,
   "metadata": {},
   "outputs": [],
   "source": [
    "# Store the API key as a string - according to PEP8, constants are always named in all upper case\n",
    "API_KEY = 'z9GxWfpN1t5q5n6aKLb1'"
   ]
  },
  {
   "cell_type": "markdown",
   "metadata": {},
   "source": [
    "Qaundl has a large number of data sources, but, unfortunately, most of them require a Premium subscription. Still, there are also a good number of free datasets."
   ]
  },
  {
   "cell_type": "markdown",
   "metadata": {},
   "source": [
    "For this mini project, we will focus on equities data from the Frankfurt Stock Exhange (FSE), which is available for free. We'll try and analyze the stock prices of a company called Carl Zeiss Meditec, which manufactures tools for eye examinations, as well as medical lasers for laser eye surgery: https://www.zeiss.com/meditec/int/home.html. The company is listed under the stock ticker AFX_X."
   ]
  },
  {
   "cell_type": "markdown",
   "metadata": {},
   "source": [
    "You can find the detailed Quandl API instructions here: https://docs.quandl.com/docs/time-series"
   ]
  },
  {
   "cell_type": "markdown",
   "metadata": {},
   "source": [
    "While there is a dedicated Python package for connecting to the Quandl API, we would prefer that you use the *requests* package, which can be easily downloaded using *pip* or *conda*. You can find the documentation for the package here: http://docs.python-requests.org/en/master/ "
   ]
  },
  {
   "cell_type": "markdown",
   "metadata": {},
   "source": [
    "Finally, apart from the *requests* package, you are encouraged to not use any third party Python packages, such as *pandas*, and instead focus on what's available in the Python Standard Library (the *collections* module might come in handy: https://pymotw.com/3/collections/ ).\n",
    "Also, since you won't have access to DataFrames, you are encouraged to us Python's native data structures - preferably dictionaries, though some questions can also be answered using lists.\n",
    "You can read more on these data structures here: https://docs.python.org/3/tutorial/datastructures.html"
   ]
  },
  {
   "cell_type": "markdown",
   "metadata": {},
   "source": [
    "Keep in mind that the JSON responses you will be getting from the API map almost one-to-one to Python's dictionaries. Unfortunately, they can be very nested, so make sure you read up on indexing dictionaries in the documentation provided above."
   ]
  },
  {
   "cell_type": "code",
   "execution_count": 187,
   "metadata": {},
   "outputs": [],
   "source": [
    "# First, import the relevant modules\n",
    "import requests\n",
    "from datetime import date"
   ]
  },
  {
   "cell_type": "markdown",
   "metadata": {},
   "source": [
    "Setting up functions to make it easier to query metadata on stocks and get data for a given period. At present we are not doing any error handling."
   ]
  },
  {
   "cell_type": "code",
   "execution_count": 188,
   "metadata": {},
   "outputs": [],
   "source": [
    "def getmetadata(database, stock):\n",
    "    # Setup url to get metadata for given stock\n",
    "    payload = {'api_key': API_KEY}\n",
    "    meta_url = 'https://www.quandl.com/api/v3/datasets/' + database + '/' + stock + '_X/metadata.json'\n",
    "    \n",
    "    # Call Quandl API and return response as a dict if request is successful\n",
    "    response = requests.get(meta_url, params = payload)\n",
    "    \n",
    "    # Check HTTP response status\n",
    "    if response.ok == False:\n",
    "        return null\n",
    "    else:\n",
    "        # format response text as JSON \n",
    "        return response.json()"
   ]
  },
  {
   "cell_type": "code",
   "execution_count": 189,
   "metadata": {},
   "outputs": [],
   "source": [
    "def getdataset (database,stock,start_date,end_date):\n",
    "    # setup url to get dataset for given stock \n",
    "    data_url = 'https://www.quandl.com/api/v3/datasets/' + database + '/' + stock + '_X/data.json'    \n",
    "\n",
    "    # setup query parameters \n",
    "    payload = {'start_date':start_date, \n",
    "               'end_date': end_date, \n",
    "               'api_key': API_KEY}\n",
    "    \n",
    "    # Call Quandl API and return response as a dict if request is successful\n",
    "    response = requests.get(data_url, params = payload)\n",
    "    \n",
    "    # Check HTTP response status\n",
    "    if response.ok == False:\n",
    "        return null\n",
    "    else:\n",
    "        # format response text as JSON \n",
    "        return response.json()    "
   ]
  },
  {
   "cell_type": "markdown",
   "metadata": {},
   "source": [
    "Now that the functions are setup, let's inspect what data is available for AFX and the data structure"
   ]
  },
  {
   "cell_type": "code",
   "execution_count": 190,
   "metadata": {},
   "outputs": [
    {
     "name": "stdout",
     "output_type": "stream",
     "text": [
      "{'dataset': {'id': 10095370, 'dataset_code': 'AFX_X', 'database_code': 'FSE', 'name': 'Carl Zeiss Meditec (AFX_X)', 'description': 'Stock Prices for Carl Zeiss Meditec (2020-11-02) from the Frankfurt Stock Exchange.<br><br>Trading System: Xetra<br><br>ISIN: DE0005313704', 'refreshed_at': '2020-12-01T14:48:09.907Z', 'newest_available_date': '2020-12-01', 'oldest_available_date': '2000-06-07', 'column_names': ['Date', 'Open', 'High', 'Low', 'Close', 'Change', 'Traded Volume', 'Turnover', 'Last Price of the Day', 'Daily Traded Units', 'Daily Turnover'], 'frequency': 'daily', 'type': 'Time Series', 'premium': False, 'database_id': 6129}}\n"
     ]
    }
   ],
   "source": [
    "# Get metadata to inspect the information available on a stock \n",
    "# Inspect the JSON structure of the object you created, and take note of how nested it is,\n",
    "# as well as the overall structure\n",
    "metadata = getmetadata('FSE','AFX')\n",
    "print(metadata)"
   ]
  },
  {
   "cell_type": "code",
   "execution_count": 191,
   "metadata": {},
   "outputs": [
    {
     "name": "stdout",
     "output_type": "stream",
     "text": [
      "{'dataset_data': {'limit': None, 'transform': None, 'column_index': None, 'column_names': ['Date', 'Open', 'High', 'Low', 'Close', 'Change', 'Traded Volume', 'Turnover', 'Last Price of the Day', 'Daily Traded Units', 'Daily Turnover'], 'start_date': '2017-01-01', 'end_date': '2017-01-03', 'frequency': 'daily', 'data': [['2017-01-03', 35.9, 35.93, 35.34, 35.48, None, 70618.0, 2515473.0, None, None, None], ['2017-01-02', 34.99, 35.94, 34.99, 35.8, None, 44700.0, 1590561.0, None, None, None]], 'collapse': None, 'order': None}}\n"
     ]
    }
   ],
   "source": [
    "# Now, call the Quandl API and pull out a small sample of the data (only one day) to get a glimpse\n",
    "# into the JSON structure that will be returned\n",
    "stock_prices = getdataset('FSE','AFX','2017-01-01','2017-01-03')\n",
    "print(stock_prices)"
   ]
  },
  {
   "cell_type": "markdown",
   "metadata": {},
   "source": [
    "Stock prices are provided as a list of lists within a dict. We need to extract the values for the 'data' key in this dict"
   ]
  },
  {
   "cell_type": "code",
   "execution_count": 192,
   "metadata": {},
   "outputs": [
    {
     "name": "stdout",
     "output_type": "stream",
     "text": [
      "[['2017-01-03', 35.9, 35.93, 35.34, 35.48, None, 70618.0, 2515473.0, None, None, None], ['2017-01-02', 34.99, 35.94, 34.99, 35.8, None, 44700.0, 1590561.0, None, None, None]]\n",
      "['2017-01-03', 35.9, 35.93, 35.34, 35.48, None, 70618.0, 2515473.0, None, None, None]\n"
     ]
    }
   ],
   "source": [
    "print((stock_prices['dataset_data']['data']))\n",
    "print(stock_prices['dataset_data']['data'][0])"
   ]
  },
  {
   "cell_type": "markdown",
   "metadata": {},
   "source": [
    "Let's define a function to extract the given prices or volumes from the JSON object returned by the API call\n",
    "Encapsulating this into a function makes it easier to keep data structure specific code in one place"
   ]
  },
  {
   "cell_type": "code",
   "execution_count": 193,
   "metadata": {},
   "outputs": [],
   "source": [
    "def get_data(dataset, col_name):\n",
    "    \n",
    "    # Get column index for given column name\n",
    "    col_idx = dataset['dataset_data']['column_names'].index(col_name)\n",
    "        \n",
    "    # Extract all rows for the given column from the 'data' column in JSON \n",
    "    # We use a nested list comprehension\n",
    "    return [ day[col_idx] for day in [days for days in dataset['dataset_data']['data']] ]    "
   ]
  },
  {
   "cell_type": "markdown",
   "metadata": {},
   "source": [
    "These are your tasks for this mini project:\n",
    "\n",
    "1. Collect data from the Franfurt Stock Exchange, for the ticker AFX_X, for the whole year 2017 (keep in mind that the date format is YYYY-MM-DD).\n",
    "2. Convert the returned JSON object into a Python dictionary.\n",
    "3. Calculate what the highest and lowest opening prices were for the stock in this period.\n",
    "4. What was the largest change in any one day (based on High and Low price)?\n",
    "5. What was the largest change between any two days (based on Closing Price)?\n",
    "6. What was the average daily trading volume during this year?\n",
    "7. (Optional) What was the median trading volume during this year. (Note: you may need to implement your own function for calculating the median.)"
   ]
  },
  {
   "cell_type": "markdown",
   "metadata": {},
   "source": [
    "**Tasks 1,2 are implemented within functions get_dataset() and get_data()**"
   ]
  },
  {
   "cell_type": "code",
   "execution_count": 194,
   "metadata": {},
   "outputs": [],
   "source": [
    "stock_data = getdataset('FSE','AFX','2017-01-01','2017-12-31')"
   ]
  },
  {
   "cell_type": "code",
   "execution_count": 195,
   "metadata": {},
   "outputs": [
    {
     "name": "stdout",
     "output_type": "stream",
     "text": [
      " Traded volume (sample):  [34640.0, 40660.0, 57452.0, 71165.0, 120649.0]\n",
      " High prices (sample):  [51.94, 51.82, 51.89, 51.5, 51.52]\n"
     ]
    }
   ],
   "source": [
    "print(' Traded volume (sample): ',get_data(stock_data,'Traded Volume')[0:5])\n",
    "print(' High prices (sample): ',get_data(stock_data,'High')[0:5])"
   ]
  },
  {
   "cell_type": "markdown",
   "metadata": {},
   "source": [
    "**3. Calculate what the highest and lowest opening prices were for the stock in this period.**"
   ]
  },
  {
   "cell_type": "code",
   "execution_count": 196,
   "metadata": {},
   "outputs": [
    {
     "name": "stdout",
     "output_type": "stream",
     "text": [
      "Highest opening price was 53.11 and lowest 34.0\n"
     ]
    }
   ],
   "source": [
    "opening_prices = get_data(stock_data,'Open')\n",
    "print('Highest opening price was', max(filter(None, opening_prices)),'and lowest',min(filter(None, opening_prices)) )"
   ]
  },
  {
   "cell_type": "markdown",
   "metadata": {},
   "source": [
    "**4. What was the largest change in any one day (based on High and Low price)?**"
   ]
  },
  {
   "cell_type": "code",
   "execution_count": 233,
   "metadata": {},
   "outputs": [
    {
     "name": "stdout",
     "output_type": "stream",
     "text": [
      "The largest change in any one day (based on High and Low price) was 2.8100000000000023\n"
     ]
    }
   ],
   "source": [
    "high_prices = get_data(stock_data,'High')\n",
    "low_prices = get_data(stock_data,'Low')\n",
    "daily_price_change = [ high - low for high,low in zip(high_prices,low_prices) ]  \n",
    "print('The largest change in any one day (based on High and Low price) was', max(daily_price_change))"
   ]
  },
  {
   "cell_type": "markdown",
   "metadata": {},
   "source": [
    "**5. What was the largest change between any two days (based on Closing Price)?**"
   ]
  },
  {
   "cell_type": "code",
   "execution_count": 235,
   "metadata": {},
   "outputs": [
    {
     "name": "stdout",
     "output_type": "stream",
     "text": [
      "The largest change between any two days (based on Closing Price) was 2.559999999999995\n"
     ]
    }
   ],
   "source": [
    "closing_prices = get_data(stock_data,'Close')\n",
    "close_price_delta = [nxt_day - prev_day for nxt_day, prev_day in zip(closing_prices[1:len(closing_prices)], closing_prices[0:len(high_prices)-1])]\n",
    "print('The largest change between any two days (based on Closing Price) was', max(close_price_delta))"
   ]
  },
  {
   "cell_type": "markdown",
   "metadata": {},
   "source": [
    "**6. What was the average daily trading volume during this year?**"
   ]
  },
  {
   "cell_type": "code",
   "execution_count": 199,
   "metadata": {},
   "outputs": [
    {
     "name": "stdout",
     "output_type": "stream",
     "text": [
      "The average daily trading volume during this year was 89124\n"
     ]
    }
   ],
   "source": [
    "trade_vols = get_data(stock_data,'Traded Volume')\n",
    "avg_trade_vol = sum(trade_vols)/len(trade_vols)\n",
    "print('The average daily trading volume during this year was',round(avg_trade_vol))"
   ]
  },
  {
   "cell_type": "markdown",
   "metadata": {},
   "source": [
    "**7. What was the median trading volume during this year. (Note: you may need to implement your own function for calculating the median.)**"
   ]
  },
  {
   "cell_type": "code",
   "execution_count": 232,
   "metadata": {},
   "outputs": [
    {
     "name": "stdout",
     "output_type": "stream",
     "text": [
      "The median trading volume during this year was 76286.0\n"
     ]
    }
   ],
   "source": [
    "# create shallow copy of list before sorting\n",
    "sorted_vols = list(filter(None,trade_vols.copy()))\n",
    "sorted_vols.sort()\n",
    "# calculate median\n",
    "list_length = len(sorted_vols)//2\n",
    "if len(sorted_vols) % 2 == 1:\n",
    "    print('The median trading volume during this year was',sorted_vols[list_length])\n",
    "else:\n",
    "    print('The median trading volume during this year was',(sorted_vols[list_length] + sorted_vols[list_length-1])/2)"
   ]
  }
 ],
 "metadata": {
  "kernelspec": {
   "display_name": "Python 3",
   "language": "python",
   "name": "python3"
  },
  "language_info": {
   "codemirror_mode": {
    "name": "ipython",
    "version": 3
   },
   "file_extension": ".py",
   "mimetype": "text/x-python",
   "name": "python",
   "nbconvert_exporter": "python",
   "pygments_lexer": "ipython3",
   "version": "3.7.4"
  }
 },
 "nbformat": 4,
 "nbformat_minor": 2
}
